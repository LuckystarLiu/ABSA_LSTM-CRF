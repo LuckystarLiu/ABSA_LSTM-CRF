{
 "cells": [
  {
   "cell_type": "code",
   "execution_count": 1,
   "metadata": {},
   "outputs": [],
   "source": [
    "# importing required modules\n",
    "\n",
    "import os\n",
    "import sys\n",
    "import numpy as np\n",
    "\n",
    "from readSemEval2014_BIO import get_BIO\n",
    "\n",
    "import sys\n"
   ]
  },
  {
   "cell_type": "code",
   "execution_count": 2,
   "metadata": {},
   "outputs": [
    {
     "name": "stderr",
     "output_type": "stream",
     "text": [
      "Using TensorFlow backend.\n"
     ]
    }
   ],
   "source": [
    "from keras.preprocessing.sequence import pad_sequences\n",
    "from keras.utils import to_categorical\n",
    "from keras.layers import Dense, Input, Dropout\n",
    "from keras.layers import LSTM, Embedding, TimeDistributed, Bidirectional\n",
    "from keras.models import Model\n",
    "from keras.initializers import Constant"
   ]
  },
  {
   "cell_type": "code",
   "execution_count": 5,
   "metadata": {},
   "outputs": [],
   "source": [
    "from keras_contrib.layers import CRF\n",
    "from keras.layers import merge\n",
    "from keras.layers import concatenate"
   ]
  },
  {
   "cell_type": "code",
   "execution_count": 6,
   "metadata": {},
   "outputs": [],
   "source": [
    "def read_glove_vecs(GLOVE_DIR, EMBEDDING_DIM):\n",
    "    \n",
    "    with open(os.path.join(GLOVE_DIR, 'glove.6B.'+str(EMBEDDING_DIM)+'d.txt')) as f:\n",
    "        words = set()\n",
    "        word_to_vec_map = {}\n",
    "        for line in f:\n",
    "            line = line.strip().split()\n",
    "            curr_word = line[0]\n",
    "            words.add(curr_word)\n",
    "            word_to_vec_map[curr_word] = np.array(line[1:], dtype=np.float64)\n",
    "        \n",
    "        i = 1\n",
    "        words_to_index = {}\n",
    "        index_to_words = {}\n",
    "        for w in sorted(words):\n",
    "            words_to_index[w] = i\n",
    "            index_to_words[i] = w\n",
    "            i = i + 1\n",
    "    return words_to_index, index_to_words, word_to_vec_map"
   ]
  },
  {
   "cell_type": "code",
   "execution_count": 7,
   "metadata": {},
   "outputs": [],
   "source": [
    "def preprocess(file):\n",
    "    \n",
    "    X, Y = get_BIO(xml_file=file)\n",
    "    sentence_length = [len(x) for x in X]\n",
    "    \n",
    "#     #______create vocab\n",
    "#     flatten_corpus = [x for y in X for x in y]\n",
    "#     vocab = set(flatten_corpus)\n",
    "#     vocab.add('')\n",
    "    \n",
    "    return X, Y, max(sentence_length)"
   ]
  },
  {
   "cell_type": "code",
   "execution_count": 8,
   "metadata": {},
   "outputs": [],
   "source": [
    "def generate_data_for_keras(X, Y, BIO_index, word_index, return_validation = False):\n",
    "\n",
    "    sequences = []\n",
    "    for mykeys in X:\n",
    "        sequences.append([word_index[x] if x in word_index.keys() else 0 for x in mykeys])\n",
    "    #sequences.append([word_index[x] for x in mykeys])\n",
    "        \n",
    "    labels = []\n",
    "    for mykeys in Y:\n",
    "        labels.append([BIO_index[x] for x in mykeys])\n",
    "        \n",
    "    # padding \n",
    "    # long sentences truncated to maxlen (last sequences are kept)\n",
    "    # short sentences padded with 0 (pad are added at begining)\n",
    "    data = pad_sequences(sequences, maxlen=MAX_SEQUENCE_LENGTH, padding='post')  \n",
    "    pad_labels = pad_sequences(labels, maxlen=MAX_SEQUENCE_LENGTH, padding='post')  \n",
    "    \n",
    "    \n",
    "    # converting to one-hot representation\n",
    "    cat_labels = to_categorical(np.asarray(pad_labels))\n",
    "    \n",
    "    print('Shape of data tensor:', data.shape)\n",
    "    print('Shape of label tensor:', cat_labels.shape)\n",
    "    \n",
    "    if return_validation:\n",
    "        # split the data into a training set and a validation set\n",
    "        indices = np.arange(data.shape[0])\n",
    "        np.random.shuffle(indices)\n",
    "        data = data[indices]\n",
    "        cat_labels = cat_labels[indices]\n",
    "\n",
    "        num_validation_samples = int(VALIDATION_SPLIT * data.shape[0])\n",
    "        x_train = data[:-num_validation_samples]\n",
    "        y_train = cat_labels[:-num_validation_samples] \n",
    "        x_val = data[-num_validation_samples:]\n",
    "        y_val = cat_labels[-num_validation_samples:]\n",
    "        return x_train, y_train, x_val, y_val\n",
    "    \n",
    "    else:\n",
    "        x_train = data\n",
    "        y_train = cat_labels\n",
    "\n",
    "        return x_train, y_train\n"
   ]
  },
  {
   "cell_type": "code",
   "execution_count": 53,
   "metadata": {},
   "outputs": [],
   "source": [
    "def pretrained_embedding_layer(word_to_vec_map, word_to_index, random_term):\n",
    "    \"\"\"\n",
    "    Creates a Keras Embedding() layer and loads in pre-trained GloVe 50-dimensional vectors.\n",
    "    \n",
    "    Arguments:\n",
    "    word_to_vec_map -- dictionary mapping words to their GloVe vector representation.\n",
    "    word_to_index -- dictionary mapping from words to their indices in the vocabulary (400,001 words)\n",
    "\n",
    "    Returns:\n",
    "    embedding_layer -- pretrained layer Keras instance\n",
    "    \"\"\"\n",
    "    \n",
    "    vocab_len = len(word_to_index) + 1                  # adding 1 to fit Keras embedding (requirement)\n",
    "    emb_dim = word_to_vec_map[random_term].shape[0]      # define dimensionality of your GloVe word vectors (= 50)\n",
    "    \n",
    "    ### START CODE HERE ###\n",
    "    # Initialize the embedding matrix as a numpy array of zeros of shape (vocab_len, dimensions of word vectors = emb_dim)\n",
    "    emb_matrix = np.zeros((vocab_len, emb_dim))\n",
    "    \n",
    "    # Set each row \"index\" of the embedding matrix to be the word vector representation of the \"index\"th word of the vocabulary\n",
    "    for word, index in word_to_index.items():\n",
    "        embedding_vector = word_to_vec_map.get(word)\n",
    "        if embedding_vector is not None:\n",
    "            emb_matrix[index] = embedding_vector\n",
    "\n",
    "    # Define Keras embedding layer with the correct output/input sizes, make it trainable. \n",
    "    # Use Embedding(...). Make sure to set trainable=False. \n",
    "    embedding_layer = Embedding(vocab_len, emb_dim, trainable = False)\n",
    "    ### END CODE HERE ###\n",
    "\n",
    "    # Build the embedding layer, it is required before setting the weights of the embedding layer. Do not modify the \"None\".\n",
    "    embedding_layer.build((None,))\n",
    "    \n",
    "    # Set the weights of the embedding layer to the embedding matrix. Your layer is now pretrained.\n",
    "    embedding_layer.set_weights([emb_matrix])\n",
    "    \n",
    "    return embedding_layer"
   ]
  },
  {
   "cell_type": "code",
   "execution_count": 10,
   "metadata": {},
   "outputs": [],
   "source": [
    "def get_aspect_terms(labels, input_tokens):\n",
    "    aspect_list = []\n",
    "    asp = None\n",
    "    for ind, val in enumerate(labels):\n",
    "        next_ind = ind+1\n",
    "        \n",
    "        if asp is None:\n",
    "            asp = '<UNK>'\n",
    "        if next_ind < len(labels):\n",
    "            if val == 1 and labels[next_ind] == 0: \n",
    "                aspect_list.append(input_tokens[ind])\n",
    "            elif val == 1 and labels[next_ind] == 2:\n",
    "                asp = input_tokens[ind]\n",
    "            elif val == 2 :\n",
    "                asp = asp+' '+ input_tokens[ind]  \n",
    "                if not labels[next_ind] == 2:\n",
    "                    aspect_list.append(asp)\n",
    "        else:\n",
    "            if val == 1:\n",
    "                aspect_list.append(input_tokens[ind])\n",
    "            elif val ==2:\n",
    "                asp = asp+' '+ input_tokens[ind]  \n",
    "                aspect_list.append(asp)\n",
    "\n",
    "    return aspect_list"
   ]
  },
  {
   "cell_type": "code",
   "execution_count": 11,
   "metadata": {},
   "outputs": [],
   "source": [
    "def get_text_n_aspect_4_xml(tokens, binary_label):\n",
    "\n",
    "    pos = 0\n",
    "    from_ = 0\n",
    "    tuple_ = []\n",
    "    asp = None\n",
    "    for ind, (bit, token) in enumerate(zip(binary_label,tokens)):\n",
    "        \n",
    "        next_ind = ind+1\n",
    "        \n",
    "        if asp is None:\n",
    "            asp = '<UNK>'\n",
    "        if next_ind < len(binary_label):\n",
    "            if bit == 1 and binary_label[next_ind] == 0: \n",
    "                from_ = pos\n",
    "                aspect = token\n",
    "                to_ = from_ + len(aspect)\n",
    "                tuple_.append((aspect, from_, to_))\n",
    "                \n",
    "            elif bit == 1 and binary_label[next_ind] == 2:\n",
    "                from_ = pos\n",
    "                asp = token\n",
    "            elif bit == 2 :\n",
    "                asp = asp+' '+ token  \n",
    "                if not binary_label[next_ind] == 2:\n",
    "                    aspect = asp\n",
    "                    to_ = from_ + len(aspect)\n",
    "                    tuple_.append((aspect, from_, to_))\n",
    "                    \n",
    "        else:\n",
    "            if bit == 1:\n",
    "                from_ = pos\n",
    "                aspect = token\n",
    "                to_ = from_ + len(aspect)\n",
    "                tuple_.append((aspect, from_, to_))\n",
    "                \n",
    "            elif bit ==2:\n",
    "                asp = asp+' '+ token \n",
    "                aspect = asp\n",
    "                to_ = from_ + len(aspect)\n",
    "                tuple_.append((aspect, from_, to_))\n",
    "                \n",
    "        pos = pos + len(token)+ 1 # plus 1 for space\n",
    "        import sys\n",
    "\n",
    "    return ' '.join(tokens), tuple_"
   ]
  },
  {
   "cell_type": "code",
   "execution_count": 12,
   "metadata": {},
   "outputs": [],
   "source": [
    "def predict_results(model, x_in, y, vocab_list):   \n",
    "    \n",
    "    xml_content_predict = []\n",
    "    xml_content_actual = []\n",
    "    \n",
    "    y_argmax = np.argmax(y, axis=-1)\n",
    "    \n",
    "    x = x_in\n",
    " \n",
    "        \n",
    "    res_argmax = np.argmax(model.predict(x_in), axis=-1)\n",
    "#     x_tokens = vocab_list[x]\n",
    "    \n",
    "    for k, (actual_label, predicted_label) in enumerate(zip(y_argmax, res_argmax)):\n",
    "        \n",
    "        tokens = vocab_list[0, x[k]]\n",
    "#         print(actual_label)\n",
    "#         print(predicted_label)\n",
    "        actual_aspect_list = get_aspect_terms(actual_label, tokens)\n",
    "        predicted_aspect_list = get_aspect_terms(predicted_label, tokens)\n",
    "\n",
    "#         print(tokens)\n",
    "        \n",
    "#         print(actual_aspect_list)\n",
    "#         print(predicted_aspect_list)\n",
    "        \n",
    "        xml_content_predict.append(get_text_n_aspect_4_xml(tokens, predicted_label))\n",
    "        xml_content_actual.append(get_text_n_aspect_4_xml(tokens, actual_label))\n",
    "#         print('\\n________________________________\\n')\n",
    "        \n",
    "    return xml_content_predict, xml_content_actual"
   ]
  },
  {
   "cell_type": "code",
   "execution_count": 13,
   "metadata": {},
   "outputs": [],
   "source": [
    "def write_in_xml(filename, content):\n",
    "    \n",
    "    import xml.etree.ElementTree as ET\n",
    "\n",
    "    root = ET.Element('sentences')\n",
    "\n",
    "    for i, con in enumerate(content):\n",
    "        \n",
    "        sentence = ET.SubElement(root, 'sentence')\n",
    "        sentence.set('id', str(i))\n",
    "        text_tag = ET.SubElement(sentence, 'text')\n",
    "        text_tag.text = con[0]\n",
    "    \n",
    "        aspectTerms = ET.SubElement(sentence, 'aspectTerms')\n",
    "        \n",
    "        tuple_ = con[1]\n",
    "        for t in tuple_:\n",
    "            aspect, from_, to_ = t[0], t[1], t[2]\n",
    "            \n",
    "            aspectTerm = ET.SubElement(aspectTerms, 'aspectTerm')\n",
    "            aspectTerm.set('from',str(from_))\n",
    "            aspectTerm.set('to',str(to_))\n",
    "#             aspectTerm.set('polarity','positive')\n",
    "            aspectTerm.set('term',aspect)\n",
    "\n",
    "#     print(ET.tostring(root))\n",
    "\n",
    "    ET.ElementTree(root).write(filename+'.xml', xml_declaration=True, encoding='utf-8', method=\"xml\")"
   ]
  },
  {
   "cell_type": "code",
   "execution_count": 54,
   "metadata": {},
   "outputs": [],
   "source": [
    "GLOVE_DIR = './Word2Vec'\n",
    "EMBEDDING_DIM = 100\n",
    "word_to_index, index_to_word, word_to_vec_map = read_glove_vecs(GLOVE_DIR, EMBEDDING_DIM)"
   ]
  },
  {
   "cell_type": "code",
   "execution_count": 55,
   "metadata": {},
   "outputs": [],
   "source": [
    "vocab_list = np.empty(shape=(1,len(word_to_index)+1), dtype='<U68')\n",
    "vocab_list[0,1:] = np.array(list(word_to_index.keys()))"
   ]
  },
  {
   "cell_type": "code",
   "execution_count": 56,
   "metadata": {},
   "outputs": [],
   "source": [
    "VALIDATION_SPLIT = 0.2\n",
    "BIO_index = {'O':0, 'B':1, 'I':2} \n"
   ]
  },
  {
   "cell_type": "code",
   "execution_count": 57,
   "metadata": {},
   "outputs": [],
   "source": [
    "domain_name = 'Laptops' # 'Laptops' 'Restaurants'\n",
    "\n",
    "if domain_name == 'Restaurants':\n",
    "    training_file='Data/Restaurants_Train_v2.xml'\n",
    "    testing_file = 'Data/Restaurants_Test_Data_phaseB.xml'\n",
    "else:\n",
    "    training_file='Data/Laptop_Train_v2.xml'\n",
    "    testing_file = 'Data/Laptops_Test_Data_phaseB.xml' "
   ]
  },
  {
   "cell_type": "code",
   "execution_count": 58,
   "metadata": {},
   "outputs": [
    {
     "name": "stdout",
     "output_type": "stream",
     "text": [
      "Shape of data tensor: (3045, 83)\n",
      "Shape of label tensor: (3045, 83, 3)\n"
     ]
    }
   ],
   "source": [
    "X, Y, MAX_SEQUENCE_LENGTH = preprocess(file=training_file)\n",
    "# x_train, y_train, x_val, y_val = generate_data_for_keras(X, Y, BIO_index, word_to_index, return_validation = TRUE)\n",
    "x_train, y_train  = generate_data_for_keras(X, Y, BIO_index, word_to_index)"
   ]
  },
  {
   "cell_type": "code",
   "execution_count": 59,
   "metadata": {},
   "outputs": [
    {
     "name": "stdout",
     "output_type": "stream",
     "text": [
      "Shape of data tensor: (800, 83)\n",
      "Shape of label tensor: (800, 83, 3)\n"
     ]
    }
   ],
   "source": [
    "X_test, Y_test, _ = preprocess(file=testing_file)\n",
    "# x_test, y_test, _, _ = generate_data_for_keras(X_test, Y_test, BIO_index, word_to_index)\n",
    "x_test, y_test = generate_data_for_keras(X_test, Y_test, BIO_index, word_to_index)"
   ]
  },
  {
   "cell_type": "code",
   "execution_count": 67,
   "metadata": {},
   "outputs": [],
   "source": [
    "import keras.backend as K\n",
    "embedding_layer_words = pretrained_embedding_layer(word_to_vec_map, word_to_index, \"cucumber\")"
   ]
  },
  {
   "cell_type": "code",
   "execution_count": 68,
   "metadata": {},
   "outputs": [],
   "source": [
    "sequence_input_words = Input(shape=(MAX_SEQUENCE_LENGTH,), dtype='int32')\n",
    "embedded_sequences_words = embedding_layer_words(sequence_input_words)"
   ]
  },
  {
   "cell_type": "code",
   "execution_count": 103,
   "metadata": {},
   "outputs": [],
   "source": [
    "x = Bidirectional(LSTM(128, return_sequences=True))(embedded_sequences_words)\n",
    "#x = LSTM(128, return_sequences=True)(embedded_sequences_words)\n",
    "\n",
    "x = Dropout(0.2)(x)"
   ]
  },
  {
   "cell_type": "code",
   "execution_count": 104,
   "metadata": {},
   "outputs": [
    {
     "name": "stderr",
     "output_type": "stream",
     "text": [
      "/usr/local/lib/python3.6/dist-packages/keras_contrib/layers/crf.py:346: UserWarning: CRF.loss_function is deprecated and it might be removed in the future. Please use losses.crf_loss instead.\n",
      "  warnings.warn('CRF.loss_function is deprecated '\n",
      "/usr/local/lib/python3.6/dist-packages/keras_contrib/layers/crf.py:353: UserWarning: CRF.accuracy is deprecated and it might be removed in the future. Please use metrics.crf_accuracy\n",
      "  warnings.warn('CRF.accuracy is deprecated and it '\n"
     ]
    },
    {
     "name": "stdout",
     "output_type": "stream",
     "text": [
      "_________________________________________________________________\n",
      "Layer (type)                 Output Shape              Param #   \n",
      "=================================================================\n",
      "input_5 (InputLayer)         (None, 83)                0         \n",
      "_________________________________________________________________\n",
      "embedding_5 (Embedding)      (None, 83, 100)           40000100  \n",
      "_________________________________________________________________\n",
      "bidirectional_3 (Bidirection (None, 83, 256)           234496    \n",
      "_________________________________________________________________\n",
      "dropout_7 (Dropout)          (None, 83, 256)           0         \n",
      "_________________________________________________________________\n",
      "time_distributed_17 (TimeDis (None, 83, 3)             771       \n",
      "_________________________________________________________________\n",
      "crf_17 (CRF)                 (None, 83, 3)             27        \n",
      "=================================================================\n",
      "Total params: 40,235,394\n",
      "Trainable params: 235,294\n",
      "Non-trainable params: 40,000,100\n",
      "_________________________________________________________________\n"
     ]
    }
   ],
   "source": [
    "################# Softmax Layer ####################\n",
    "pre = TimeDistributed(Dense(len(BIO_index), activation='softmax'))(x)\n",
    "\n",
    "crf = CRF(3)\n",
    "\n",
    "preds = crf(pre)\n",
    "\n",
    "model = Model(inputs=sequence_input_words , outputs=preds)\n",
    "model.compile(loss= crf.loss_function,\n",
    "              optimizer='rmsprop',\n",
    "              metrics=[crf.accuracy])\n",
    "model.summary()"
   ]
  },
  {
   "cell_type": "code",
   "execution_count": 108,
   "metadata": {},
   "outputs": [],
   "source": [
    "epochs_count = 20# 50"
   ]
  },
  {
   "cell_type": "code",
   "execution_count": 109,
   "metadata": {},
   "outputs": [
    {
     "name": "stdout",
     "output_type": "stream",
     "text": [
      "Train on 2436 samples, validate on 609 samples\n",
      "Epoch 1/20\n",
      "2436/2436 [==============================] - 16s 7ms/step - loss: 0.1588 - crf_viterbi_accuracy: 0.9864 - val_loss: 0.1514 - val_crf_viterbi_accuracy: 0.9857\n",
      "Epoch 2/20\n",
      "2436/2436 [==============================] - 21s 9ms/step - loss: 0.1428 - crf_viterbi_accuracy: 0.9864 - val_loss: 0.1373 - val_crf_viterbi_accuracy: 0.9857\n",
      "Epoch 3/20\n",
      "2436/2436 [==============================] - 20s 8ms/step - loss: 0.1299 - crf_viterbi_accuracy: 0.9864 - val_loss: 0.1259 - val_crf_viterbi_accuracy: 0.9857\n",
      "Epoch 4/20\n",
      "2436/2436 [==============================] - 20s 8ms/step - loss: 0.1194 - crf_viterbi_accuracy: 0.9864 - val_loss: 0.1168 - val_crf_viterbi_accuracy: 0.9857\n",
      "Epoch 5/20\n",
      "2436/2436 [==============================] - 21s 8ms/step - loss: 0.1111 - crf_viterbi_accuracy: 0.9864 - val_loss: 0.1096 - val_crf_viterbi_accuracy: 0.9857\n",
      "Epoch 6/20\n",
      "2436/2436 [==============================] - 21s 9ms/step - loss: 0.1045 - crf_viterbi_accuracy: 0.9864 - val_loss: 0.1039 - val_crf_viterbi_accuracy: 0.9857\n",
      "Epoch 7/20\n",
      "2436/2436 [==============================] - 20s 8ms/step - loss: 0.0993 - crf_viterbi_accuracy: 0.9864 - val_loss: 0.0994 - val_crf_viterbi_accuracy: 0.9857\n",
      "Epoch 8/20\n",
      "2436/2436 [==============================] - 21s 8ms/step - loss: 0.0952 - crf_viterbi_accuracy: 0.9864 - val_loss: 0.0959 - val_crf_viterbi_accuracy: 0.9857\n",
      "Epoch 9/20\n",
      "2436/2436 [==============================] - 21s 8ms/step - loss: 0.0921 - crf_viterbi_accuracy: 0.9864 - val_loss: 0.0933 - val_crf_viterbi_accuracy: 0.9857\n",
      "Epoch 10/20\n",
      "2436/2436 [==============================] - 21s 9ms/step - loss: 0.0897 - crf_viterbi_accuracy: 0.9864 - val_loss: 0.0913 - val_crf_viterbi_accuracy: 0.9857\n",
      "Epoch 11/20\n",
      "2436/2436 [==============================] - 21s 9ms/step - loss: 0.0880 - crf_viterbi_accuracy: 0.9864 - val_loss: 0.0900 - val_crf_viterbi_accuracy: 0.9857\n",
      "Epoch 12/20\n",
      "2436/2436 [==============================] - 21s 9ms/step - loss: 0.0867 - crf_viterbi_accuracy: 0.9864 - val_loss: 0.0890 - val_crf_viterbi_accuracy: 0.9857\n",
      "Epoch 13/20\n",
      "2436/2436 [==============================] - 21s 9ms/step - loss: 0.0858 - crf_viterbi_accuracy: 0.9864 - val_loss: 0.0882 - val_crf_viterbi_accuracy: 0.9857\n",
      "Epoch 14/20\n",
      "2436/2436 [==============================] - 20s 8ms/step - loss: 0.0850 - crf_viterbi_accuracy: 0.9864 - val_loss: 0.0876 - val_crf_viterbi_accuracy: 0.9857\n",
      "Epoch 15/20\n",
      "2436/2436 [==============================] - 21s 8ms/step - loss: 0.0844 - crf_viterbi_accuracy: 0.9864 - val_loss: 0.0870 - val_crf_viterbi_accuracy: 0.9857\n",
      "Epoch 16/20\n",
      "2436/2436 [==============================] - 21s 8ms/step - loss: 0.0838 - crf_viterbi_accuracy: 0.9864 - val_loss: 0.0864 - val_crf_viterbi_accuracy: 0.9857\n",
      "Epoch 17/20\n",
      "2436/2436 [==============================] - 21s 9ms/step - loss: 0.0769 - crf_viterbi_accuracy: 0.9864 - val_loss: 0.0740 - val_crf_viterbi_accuracy: 0.9857\n",
      "Epoch 18/20\n",
      "2436/2436 [==============================] - 21s 8ms/step - loss: 0.0694 - crf_viterbi_accuracy: 0.9864 - val_loss: 0.0699 - val_crf_viterbi_accuracy: 0.9857\n",
      "Epoch 19/20\n",
      "2436/2436 [==============================] - 21s 8ms/step - loss: 0.0665 - crf_viterbi_accuracy: 0.9864 - val_loss: 0.0688 - val_crf_viterbi_accuracy: 0.9857\n",
      "Epoch 20/20\n",
      "2436/2436 [==============================] - 20s 8ms/step - loss: 0.0646 - crf_viterbi_accuracy: 0.9864 - val_loss: 0.0718 - val_crf_viterbi_accuracy: 0.9857\n"
     ]
    }
   ],
   "source": [
    "mi = model.fit(x_train, \n",
    "          y_train,\n",
    "          batch_size=128,\n",
    "          epochs=epochs_count,\n",
    "         validation_split =VALIDATION_SPLIT)"
   ]
  },
  {
   "cell_type": "code",
   "execution_count": 110,
   "metadata": {},
   "outputs": [
    {
     "data": {
      "image/png": "[encoded data removed]",
      "text/plain": [
       "<Figure size 432x288 with 1 Axes>"
      ]
     },
     "metadata": {},
     "output_type": "display_data"
    }
   ],
   "source": [
    "import matplotlib.pyplot as plt\n",
    "plt.plot(mi.history['loss'],label='loss')\n",
    "plt.plot(mi.history['val_loss'],label='val_loss')\n",
    "plt.legend()\n",
    "plt.show()"
   ]
  },
  {
   "cell_type": "code",
   "execution_count": 112,
   "metadata": {},
   "outputs": [
    {
     "data": {
      "image/png": "[encoded data removed]",
      "text/plain": [
       "<Figure size 432x288 with 1 Axes>"
      ]
     },
     "metadata": {},
     "output_type": "display_data"
    }
   ],
   "source": [
    "plt.plot(mi.history['crf_viterbi_accuracy'],label='acc')\n",
    "plt.plot(mi.history['val_crf_viterbi_accuracy'],label='val_acc')\n",
    "plt.legend()\n",
    "plt.show()"
   ]
  },
  {
   "cell_type": "code",
   "execution_count": 113,
   "metadata": {},
   "outputs": [
    {
     "name": "stdout",
     "output_type": "stream",
     "text": [
      "Test accuracy: 0.9839909648895264\n"
     ]
    }
   ],
   "source": [
    "scores = model.evaluate(x_test, y_test, verbose=0)\n",
    "print('Test accuracy:', scores[1])"
   ]
  },
  {
   "cell_type": "code",
   "execution_count": 115,
   "metadata": {},
   "outputs": [],
   "source": [
    "xml_content_predict, xml_content_actual = predict_results(model, x_train, y_train, vocab_list)\n",
    "write_in_xml(domain_name +'_Bmodel1_ATE_'+ 'train_'+str(epochs_count)+'_predict_result', xml_content_predict)\n",
    "write_in_xml(domain_name +'_Bmodel1_ATE_'+ 'train_'+str(epochs_count)+'_actual_result', xml_content_actual)\n",
    "\n",
    "xml_content_predict, xml_content_actual = predict_results(model, x_test, y_test, vocab_list)\n",
    "write_in_xml(domain_name +'_Bmodel1_ATE_'+ 'test_'+str(epochs_count)+'_predict_result', xml_content_predict)\n",
    "write_in_xml(domain_name +'_Bmodel1_ATE_'+ 'test_'+str(epochs_count)+'_actual_result', xml_content_actual)"
   ]
  },
  {
   "cell_type": "code",
   "execution_count": 88,
   "metadata": {},
   "outputs": [
    {
     "name": "stdout",
     "output_type": "stream",
     "text": [
      "_________________________________________________________________\n",
      "Layer (type)                 Output Shape              Param #   \n",
      "=================================================================\n",
      "input_5 (InputLayer)         (None, 83)                0         \n",
      "_________________________________________________________________\n",
      "embedding_5 (Embedding)      (None, 83, 100)           40000100  \n",
      "_________________________________________________________________\n",
      "lstm_5 (LSTM)                (None, 83, 128)           117248    \n",
      "_________________________________________________________________\n",
      "dropout_5 (Dropout)          (None, 83, 128)           0         \n",
      "_________________________________________________________________\n",
      "time_distributed_15 (TimeDis (None, 83, 3)             387       \n",
      "_________________________________________________________________\n",
      "crf_15 (CRF)                 (None, 83, 3)             27        \n",
      "=================================================================\n",
      "Total params: 40,117,762\n",
      "Trainable params: 117,662\n",
      "Non-trainable params: 40,000,100\n",
      "_________________________________________________________________\n"
     ]
    }
   ],
   "source": [
    "model.summary()"
   ]
  },
  {
   "cell_type": "code",
   "execution_count": null,
   "metadata": {},
   "outputs": [],
   "source": []
  }
 ],
 "metadata": {
  "kernelspec": {
   "display_name": "Python 2",
   "language": "python",
   "name": "python2"
  },
  "language_info": {
   "codemirror_mode": {
    "name": "ipython",
    "version": 3
   },
   "file_extension": ".py",
   "mimetype": "text/x-python",
   "name": "python",
   "nbconvert_exporter": "python",
   "pygments_lexer": "ipython3",
   "version": "3.6.7"
  }
 },
 "nbformat": 4,
 "nbformat_minor": 2
}
